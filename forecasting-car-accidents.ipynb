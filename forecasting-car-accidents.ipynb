{
 "cells": [
  {
   "cell_type": "code",
   "execution_count": 1,
   "metadata": {
    "id": "JNpWGV0NS_Xx"
   },
   "outputs": [],
   "source": [
    "import pandas as pd\n",
    "import numpy as np\n",
    "import matplotlib.pyplot as plt\n",
    "import seaborn as sns\n",
    "from sklearn.preprocessing import StandardScaler\n",
    "from sklearn.metrics import classification_report,confusion_matrix\n",
    "import sklearn.metrics as sm\n",
    "%matplotlib inline\n",
    "\n",
    "cases = pd.read_csv('nassCD.csv')"
   ]
  },
  {
   "cell_type": "markdown",
   "metadata": {
    "id": "btDYcQZ_S_Xy"
   },
   "source": [
    "## data preprocessing tasks"
   ]
  },
  {
   "cell_type": "code",
   "execution_count": 2,
   "metadata": {},
   "outputs": [
    {
     "data": {
      "text/html": [
       "<div>\n",
       "<style scoped>\n",
       "    .dataframe tbody tr th:only-of-type {\n",
       "        vertical-align: middle;\n",
       "    }\n",
       "\n",
       "    .dataframe tbody tr th {\n",
       "        vertical-align: top;\n",
       "    }\n",
       "\n",
       "    .dataframe thead th {\n",
       "        text-align: right;\n",
       "    }\n",
       "</style>\n",
       "<table border=\"1\" class=\"dataframe\">\n",
       "  <thead>\n",
       "    <tr style=\"text-align: right;\">\n",
       "      <th></th>\n",
       "      <th>Unnamed: 0</th>\n",
       "      <th>dvcat</th>\n",
       "      <th>weight</th>\n",
       "      <th>dead</th>\n",
       "      <th>airbag</th>\n",
       "      <th>seatbelt</th>\n",
       "      <th>frontal</th>\n",
       "      <th>sex</th>\n",
       "      <th>ageOFocc</th>\n",
       "      <th>yearacc</th>\n",
       "      <th>yearVeh</th>\n",
       "      <th>abcat</th>\n",
       "      <th>occRole</th>\n",
       "      <th>deploy</th>\n",
       "      <th>injSeverity</th>\n",
       "      <th>caseid</th>\n",
       "    </tr>\n",
       "  </thead>\n",
       "  <tbody>\n",
       "    <tr>\n",
       "      <th>0</th>\n",
       "      <td>1</td>\n",
       "      <td>25-39</td>\n",
       "      <td>25.069</td>\n",
       "      <td>alive</td>\n",
       "      <td>none</td>\n",
       "      <td>belted</td>\n",
       "      <td>1</td>\n",
       "      <td>f</td>\n",
       "      <td>26</td>\n",
       "      <td>1997</td>\n",
       "      <td>1990.0</td>\n",
       "      <td>unavail</td>\n",
       "      <td>driver</td>\n",
       "      <td>0</td>\n",
       "      <td>3.0</td>\n",
       "      <td>2:3:1</td>\n",
       "    </tr>\n",
       "    <tr>\n",
       "      <th>1</th>\n",
       "      <td>2</td>\n",
       "      <td>10-24</td>\n",
       "      <td>25.069</td>\n",
       "      <td>alive</td>\n",
       "      <td>airbag</td>\n",
       "      <td>belted</td>\n",
       "      <td>1</td>\n",
       "      <td>f</td>\n",
       "      <td>72</td>\n",
       "      <td>1997</td>\n",
       "      <td>1995.0</td>\n",
       "      <td>deploy</td>\n",
       "      <td>driver</td>\n",
       "      <td>1</td>\n",
       "      <td>1.0</td>\n",
       "      <td>2:3:2</td>\n",
       "    </tr>\n",
       "    <tr>\n",
       "      <th>2</th>\n",
       "      <td>3</td>\n",
       "      <td>10-24</td>\n",
       "      <td>32.379</td>\n",
       "      <td>alive</td>\n",
       "      <td>none</td>\n",
       "      <td>none</td>\n",
       "      <td>1</td>\n",
       "      <td>f</td>\n",
       "      <td>69</td>\n",
       "      <td>1997</td>\n",
       "      <td>1988.0</td>\n",
       "      <td>unavail</td>\n",
       "      <td>driver</td>\n",
       "      <td>0</td>\n",
       "      <td>4.0</td>\n",
       "      <td>2:5:1</td>\n",
       "    </tr>\n",
       "  </tbody>\n",
       "</table>\n",
       "</div>"
      ],
      "text/plain": [
       "   Unnamed: 0  dvcat  weight   dead  airbag seatbelt  frontal sex  ageOFocc  \\\n",
       "0           1  25-39  25.069  alive    none   belted        1   f        26   \n",
       "1           2  10-24  25.069  alive  airbag   belted        1   f        72   \n",
       "2           3  10-24  32.379  alive    none     none        1   f        69   \n",
       "\n",
       "   yearacc  yearVeh    abcat occRole  deploy  injSeverity caseid  \n",
       "0     1997   1990.0  unavail  driver       0          3.0  2:3:1  \n",
       "1     1997   1995.0   deploy  driver       1          1.0  2:3:2  \n",
       "2     1997   1988.0  unavail  driver       0          4.0  2:5:1  "
      ]
     },
     "execution_count": 2,
     "metadata": {},
     "output_type": "execute_result"
    }
   ],
   "source": [
    "cases.head(3)"
   ]
  },
  {
   "cell_type": "code",
   "execution_count": 3,
   "metadata": {
    "id": "Gng5dwuOS_Xz"
   },
   "outputs": [
    {
     "data": {
      "text/html": [
       "<div>\n",
       "<style scoped>\n",
       "    .dataframe tbody tr th:only-of-type {\n",
       "        vertical-align: middle;\n",
       "    }\n",
       "\n",
       "    .dataframe tbody tr th {\n",
       "        vertical-align: top;\n",
       "    }\n",
       "\n",
       "    .dataframe thead th {\n",
       "        text-align: right;\n",
       "    }\n",
       "</style>\n",
       "<table border=\"1\" class=\"dataframe\">\n",
       "  <thead>\n",
       "    <tr style=\"text-align: right;\">\n",
       "      <th></th>\n",
       "      <th>weight</th>\n",
       "      <th>dead</th>\n",
       "      <th>airbag</th>\n",
       "      <th>seatbelt</th>\n",
       "      <th>frontal</th>\n",
       "      <th>ageOFocc</th>\n",
       "      <th>yearVeh</th>\n",
       "      <th>abcat</th>\n",
       "      <th>occRole</th>\n",
       "      <th>injSeverity</th>\n",
       "    </tr>\n",
       "  </thead>\n",
       "  <tbody>\n",
       "    <tr>\n",
       "      <th>0</th>\n",
       "      <td>25.069</td>\n",
       "      <td>alive</td>\n",
       "      <td>none</td>\n",
       "      <td>belted</td>\n",
       "      <td>1</td>\n",
       "      <td>26</td>\n",
       "      <td>1990.0</td>\n",
       "      <td>unavail</td>\n",
       "      <td>driver</td>\n",
       "      <td>3.0</td>\n",
       "    </tr>\n",
       "    <tr>\n",
       "      <th>1</th>\n",
       "      <td>25.069</td>\n",
       "      <td>alive</td>\n",
       "      <td>airbag</td>\n",
       "      <td>belted</td>\n",
       "      <td>1</td>\n",
       "      <td>72</td>\n",
       "      <td>1995.0</td>\n",
       "      <td>deploy</td>\n",
       "      <td>driver</td>\n",
       "      <td>1.0</td>\n",
       "    </tr>\n",
       "    <tr>\n",
       "      <th>2</th>\n",
       "      <td>32.379</td>\n",
       "      <td>alive</td>\n",
       "      <td>none</td>\n",
       "      <td>none</td>\n",
       "      <td>1</td>\n",
       "      <td>69</td>\n",
       "      <td>1988.0</td>\n",
       "      <td>unavail</td>\n",
       "      <td>driver</td>\n",
       "      <td>4.0</td>\n",
       "    </tr>\n",
       "  </tbody>\n",
       "</table>\n",
       "</div>"
      ],
      "text/plain": [
       "   weight   dead  airbag seatbelt  frontal  ageOFocc  yearVeh    abcat  \\\n",
       "0  25.069  alive    none   belted        1        26   1990.0  unavail   \n",
       "1  25.069  alive  airbag   belted        1        72   1995.0   deploy   \n",
       "2  32.379  alive    none     none        1        69   1988.0  unavail   \n",
       "\n",
       "  occRole  injSeverity  \n",
       "0  driver          3.0  \n",
       "1  driver          1.0  \n",
       "2  driver          4.0  "
      ]
     },
     "execution_count": 3,
     "metadata": {},
     "output_type": "execute_result"
    }
   ],
   "source": [
    "df = cases[['weight','dead','airbag','seatbelt','frontal','ageOFocc','yearVeh','abcat','occRole','injSeverity']]\n",
    "df.head(3)"
   ]
  },
  {
   "cell_type": "code",
   "execution_count": 4,
   "metadata": {},
   "outputs": [
    {
     "name": "stdout",
     "output_type": "stream",
     "text": [
      "<class 'pandas.core.frame.DataFrame'>\n",
      "RangeIndex: 26217 entries, 0 to 26216\n",
      "Data columns (total 10 columns):\n",
      " #   Column       Non-Null Count  Dtype  \n",
      "---  ------       --------------  -----  \n",
      " 0   weight       26217 non-null  float64\n",
      " 1   dead         26217 non-null  object \n",
      " 2   airbag       26217 non-null  object \n",
      " 3   seatbelt     26217 non-null  object \n",
      " 4   frontal      26217 non-null  int64  \n",
      " 5   ageOFocc     26217 non-null  int64  \n",
      " 6   yearVeh      26216 non-null  float64\n",
      " 7   abcat        26217 non-null  object \n",
      " 8   occRole      26217 non-null  object \n",
      " 9   injSeverity  26064 non-null  float64\n",
      "dtypes: float64(3), int64(2), object(5)\n",
      "memory usage: 2.0+ MB\n"
     ]
    }
   ],
   "source": [
    "df.info()"
   ]
  },
  {
   "cell_type": "code",
   "execution_count": 5,
   "metadata": {},
   "outputs": [
    {
     "data": {
      "text/plain": [
       "weight           0\n",
       "dead             0\n",
       "airbag           0\n",
       "seatbelt         0\n",
       "frontal          0\n",
       "ageOFocc         0\n",
       "yearVeh          1\n",
       "abcat            0\n",
       "occRole          0\n",
       "injSeverity    153\n",
       "dtype: int64"
      ]
     },
     "execution_count": 5,
     "metadata": {},
     "output_type": "execute_result"
    }
   ],
   "source": [
    "df.isnull().sum()"
   ]
  },
  {
   "cell_type": "code",
   "execution_count": 6,
   "metadata": {},
   "outputs": [
    {
     "data": {
      "text/html": [
       "<div>\n",
       "<style scoped>\n",
       "    .dataframe tbody tr th:only-of-type {\n",
       "        vertical-align: middle;\n",
       "    }\n",
       "\n",
       "    .dataframe tbody tr th {\n",
       "        vertical-align: top;\n",
       "    }\n",
       "\n",
       "    .dataframe thead th {\n",
       "        text-align: right;\n",
       "    }\n",
       "</style>\n",
       "<table border=\"1\" class=\"dataframe\">\n",
       "  <thead>\n",
       "    <tr style=\"text-align: right;\">\n",
       "      <th></th>\n",
       "      <th>weight</th>\n",
       "      <th>frontal</th>\n",
       "      <th>ageOFocc</th>\n",
       "      <th>yearVeh</th>\n",
       "      <th>injSeverity</th>\n",
       "    </tr>\n",
       "  </thead>\n",
       "  <tbody>\n",
       "    <tr>\n",
       "      <th>count</th>\n",
       "      <td>26217.000000</td>\n",
       "      <td>26217.000000</td>\n",
       "      <td>26217.000000</td>\n",
       "      <td>26216.000000</td>\n",
       "      <td>26064.000000</td>\n",
       "    </tr>\n",
       "    <tr>\n",
       "      <th>mean</th>\n",
       "      <td>462.811611</td>\n",
       "      <td>0.643323</td>\n",
       "      <td>37.206202</td>\n",
       "      <td>1992.804699</td>\n",
       "      <td>1.715508</td>\n",
       "    </tr>\n",
       "    <tr>\n",
       "      <th>std</th>\n",
       "      <td>1524.844430</td>\n",
       "      <td>0.479027</td>\n",
       "      <td>17.909317</td>\n",
       "      <td>5.594990</td>\n",
       "      <td>1.293357</td>\n",
       "    </tr>\n",
       "    <tr>\n",
       "      <th>min</th>\n",
       "      <td>0.000000</td>\n",
       "      <td>0.000000</td>\n",
       "      <td>16.000000</td>\n",
       "      <td>1953.000000</td>\n",
       "      <td>0.000000</td>\n",
       "    </tr>\n",
       "    <tr>\n",
       "      <th>25%</th>\n",
       "      <td>32.467000</td>\n",
       "      <td>0.000000</td>\n",
       "      <td>22.000000</td>\n",
       "      <td>1989.000000</td>\n",
       "      <td>1.000000</td>\n",
       "    </tr>\n",
       "    <tr>\n",
       "      <th>50%</th>\n",
       "      <td>86.986000</td>\n",
       "      <td>1.000000</td>\n",
       "      <td>33.000000</td>\n",
       "      <td>1994.000000</td>\n",
       "      <td>2.000000</td>\n",
       "    </tr>\n",
       "    <tr>\n",
       "      <th>75%</th>\n",
       "      <td>364.717000</td>\n",
       "      <td>1.000000</td>\n",
       "      <td>48.000000</td>\n",
       "      <td>1997.000000</td>\n",
       "      <td>3.000000</td>\n",
       "    </tr>\n",
       "    <tr>\n",
       "      <th>max</th>\n",
       "      <td>57871.595000</td>\n",
       "      <td>1.000000</td>\n",
       "      <td>97.000000</td>\n",
       "      <td>2003.000000</td>\n",
       "      <td>6.000000</td>\n",
       "    </tr>\n",
       "  </tbody>\n",
       "</table>\n",
       "</div>"
      ],
      "text/plain": [
       "             weight       frontal      ageOFocc       yearVeh   injSeverity\n",
       "count  26217.000000  26217.000000  26217.000000  26216.000000  26064.000000\n",
       "mean     462.811611      0.643323     37.206202   1992.804699      1.715508\n",
       "std     1524.844430      0.479027     17.909317      5.594990      1.293357\n",
       "min        0.000000      0.000000     16.000000   1953.000000      0.000000\n",
       "25%       32.467000      0.000000     22.000000   1989.000000      1.000000\n",
       "50%       86.986000      1.000000     33.000000   1994.000000      2.000000\n",
       "75%      364.717000      1.000000     48.000000   1997.000000      3.000000\n",
       "max    57871.595000      1.000000     97.000000   2003.000000      6.000000"
      ]
     },
     "execution_count": 6,
     "metadata": {},
     "output_type": "execute_result"
    }
   ],
   "source": [
    "df.describe()"
   ]
  },
  {
   "cell_type": "code",
   "execution_count": 7,
   "metadata": {},
   "outputs": [],
   "source": [
    "df = df.drop(df[df['weight'] > 14200].index)"
   ]
  },
  {
   "cell_type": "code",
   "execution_count": 8,
   "metadata": {},
   "outputs": [],
   "source": [
    "df.dropna(inplace=True)"
   ]
  },
  {
   "cell_type": "code",
   "execution_count": 9,
   "metadata": {},
   "outputs": [
    {
     "data": {
      "text/plain": [
       "weight         0\n",
       "dead           0\n",
       "airbag         0\n",
       "seatbelt       0\n",
       "frontal        0\n",
       "ageOFocc       0\n",
       "yearVeh        0\n",
       "abcat          0\n",
       "occRole        0\n",
       "injSeverity    0\n",
       "dtype: int64"
      ]
     },
     "execution_count": 9,
     "metadata": {},
     "output_type": "execute_result"
    }
   ],
   "source": [
    "df.isnull().sum()"
   ]
  },
  {
   "cell_type": "code",
   "execution_count": 10,
   "metadata": {},
   "outputs": [
    {
     "data": {
      "text/html": [
       "<div>\n",
       "<style scoped>\n",
       "    .dataframe tbody tr th:only-of-type {\n",
       "        vertical-align: middle;\n",
       "    }\n",
       "\n",
       "    .dataframe tbody tr th {\n",
       "        vertical-align: top;\n",
       "    }\n",
       "\n",
       "    .dataframe thead th {\n",
       "        text-align: right;\n",
       "    }\n",
       "</style>\n",
       "<table border=\"1\" class=\"dataframe\">\n",
       "  <thead>\n",
       "    <tr style=\"text-align: right;\">\n",
       "      <th></th>\n",
       "      <th>weight</th>\n",
       "      <th>frontal</th>\n",
       "      <th>ageOFocc</th>\n",
       "      <th>yearVeh</th>\n",
       "      <th>injSeverity</th>\n",
       "      <th>dead_alive</th>\n",
       "      <th>airbag_airbag</th>\n",
       "      <th>seatbelt_belted</th>\n",
       "      <th>occRole_driver</th>\n",
       "      <th>abcat_deploy</th>\n",
       "      <th>abcat_nodeploy</th>\n",
       "      <th>abcat_unavail</th>\n",
       "    </tr>\n",
       "  </thead>\n",
       "  <tbody>\n",
       "    <tr>\n",
       "      <th>0</th>\n",
       "      <td>25.069</td>\n",
       "      <td>1</td>\n",
       "      <td>26</td>\n",
       "      <td>1990.0</td>\n",
       "      <td>3.0</td>\n",
       "      <td>1</td>\n",
       "      <td>0</td>\n",
       "      <td>1</td>\n",
       "      <td>1</td>\n",
       "      <td>0</td>\n",
       "      <td>0</td>\n",
       "      <td>1</td>\n",
       "    </tr>\n",
       "    <tr>\n",
       "      <th>1</th>\n",
       "      <td>25.069</td>\n",
       "      <td>1</td>\n",
       "      <td>72</td>\n",
       "      <td>1995.0</td>\n",
       "      <td>1.0</td>\n",
       "      <td>1</td>\n",
       "      <td>1</td>\n",
       "      <td>1</td>\n",
       "      <td>1</td>\n",
       "      <td>1</td>\n",
       "      <td>0</td>\n",
       "      <td>0</td>\n",
       "    </tr>\n",
       "    <tr>\n",
       "      <th>2</th>\n",
       "      <td>32.379</td>\n",
       "      <td>1</td>\n",
       "      <td>69</td>\n",
       "      <td>1988.0</td>\n",
       "      <td>4.0</td>\n",
       "      <td>1</td>\n",
       "      <td>0</td>\n",
       "      <td>0</td>\n",
       "      <td>1</td>\n",
       "      <td>0</td>\n",
       "      <td>0</td>\n",
       "      <td>1</td>\n",
       "    </tr>\n",
       "  </tbody>\n",
       "</table>\n",
       "</div>"
      ],
      "text/plain": [
       "   weight  frontal  ageOFocc  yearVeh  injSeverity  dead_alive  airbag_airbag  \\\n",
       "0  25.069        1        26   1990.0          3.0           1              0   \n",
       "1  25.069        1        72   1995.0          1.0           1              1   \n",
       "2  32.379        1        69   1988.0          4.0           1              0   \n",
       "\n",
       "   seatbelt_belted  occRole_driver  abcat_deploy  abcat_nodeploy  \\\n",
       "0                1               1             0               0   \n",
       "1                1               1             1               0   \n",
       "2                0               1             0               0   \n",
       "\n",
       "   abcat_unavail  \n",
       "0              1  \n",
       "1              0  \n",
       "2              1  "
      ]
     },
     "execution_count": 10,
     "metadata": {},
     "output_type": "execute_result"
    }
   ],
   "source": [
    "df = pd.get_dummies(df, columns = ['dead'])\n",
    "df = pd.get_dummies(df, columns = ['airbag'])\n",
    "df = pd.get_dummies(df, columns = ['seatbelt'])\n",
    "df = pd.get_dummies(df, columns = ['occRole'])\n",
    "df = pd.get_dummies(df, columns = ['abcat'])\n",
    "\n",
    "\n",
    "df.drop('dead_dead', axis=1, inplace=True)\n",
    "df.drop('airbag_none', axis=1, inplace=True)\n",
    "df.drop('seatbelt_none', axis=1, inplace=True)\n",
    "df.drop('occRole_pass', axis=1, inplace=True)\n",
    "df.head(3)"
   ]
  },
  {
   "cell_type": "code",
   "execution_count": 11,
   "metadata": {},
   "outputs": [
    {
     "data": {
      "text/html": [
       "<div>\n",
       "<style scoped>\n",
       "    .dataframe tbody tr th:only-of-type {\n",
       "        vertical-align: middle;\n",
       "    }\n",
       "\n",
       "    .dataframe tbody tr th {\n",
       "        vertical-align: top;\n",
       "    }\n",
       "\n",
       "    .dataframe thead th {\n",
       "        text-align: right;\n",
       "    }\n",
       "</style>\n",
       "<table border=\"1\" class=\"dataframe\">\n",
       "  <thead>\n",
       "    <tr style=\"text-align: right;\">\n",
       "      <th></th>\n",
       "      <th>weight</th>\n",
       "      <th>frontal</th>\n",
       "      <th>age</th>\n",
       "      <th>yearVeh</th>\n",
       "      <th>injSeverity</th>\n",
       "      <th>survived</th>\n",
       "      <th>airbag</th>\n",
       "      <th>seatbelt</th>\n",
       "      <th>occRole</th>\n",
       "      <th>abcat_deploy</th>\n",
       "      <th>abcat_nodeploy</th>\n",
       "      <th>abcat_unavail</th>\n",
       "    </tr>\n",
       "  </thead>\n",
       "  <tbody>\n",
       "    <tr>\n",
       "      <th>0</th>\n",
       "      <td>25.069</td>\n",
       "      <td>1</td>\n",
       "      <td>26</td>\n",
       "      <td>1990.0</td>\n",
       "      <td>3.0</td>\n",
       "      <td>1</td>\n",
       "      <td>0</td>\n",
       "      <td>1</td>\n",
       "      <td>1</td>\n",
       "      <td>0</td>\n",
       "      <td>0</td>\n",
       "      <td>1</td>\n",
       "    </tr>\n",
       "    <tr>\n",
       "      <th>1</th>\n",
       "      <td>25.069</td>\n",
       "      <td>1</td>\n",
       "      <td>72</td>\n",
       "      <td>1995.0</td>\n",
       "      <td>1.0</td>\n",
       "      <td>1</td>\n",
       "      <td>1</td>\n",
       "      <td>1</td>\n",
       "      <td>1</td>\n",
       "      <td>1</td>\n",
       "      <td>0</td>\n",
       "      <td>0</td>\n",
       "    </tr>\n",
       "    <tr>\n",
       "      <th>2</th>\n",
       "      <td>32.379</td>\n",
       "      <td>1</td>\n",
       "      <td>69</td>\n",
       "      <td>1988.0</td>\n",
       "      <td>4.0</td>\n",
       "      <td>1</td>\n",
       "      <td>0</td>\n",
       "      <td>0</td>\n",
       "      <td>1</td>\n",
       "      <td>0</td>\n",
       "      <td>0</td>\n",
       "      <td>1</td>\n",
       "    </tr>\n",
       "  </tbody>\n",
       "</table>\n",
       "</div>"
      ],
      "text/plain": [
       "   weight  frontal  age  yearVeh  injSeverity  survived  airbag  seatbelt  \\\n",
       "0  25.069        1   26   1990.0          3.0         1       0         1   \n",
       "1  25.069        1   72   1995.0          1.0         1       1         1   \n",
       "2  32.379        1   69   1988.0          4.0         1       0         0   \n",
       "\n",
       "   occRole  abcat_deploy  abcat_nodeploy  abcat_unavail  \n",
       "0        1             0               0              1  \n",
       "1        1             1               0              0  \n",
       "2        1             0               0              1  "
      ]
     },
     "execution_count": 11,
     "metadata": {},
     "output_type": "execute_result"
    }
   ],
   "source": [
    "df.rename({'dead_alive':'survived','ageOFocc':'age','seatbelt_belted':'seatbelt', 'occRole_driver':'occRole','airbag_airbag':'airbag'},axis=1, inplace=True)\n",
    "df.head(3)"
   ]
  },
  {
   "cell_type": "code",
   "execution_count": 12,
   "metadata": {},
   "outputs": [],
   "source": [
    "df = df.astype(int)"
   ]
  },
  {
   "cell_type": "markdown",
   "metadata": {},
   "source": [
    "### Standardize data"
   ]
  },
  {
   "cell_type": "code",
   "execution_count": 13,
   "metadata": {},
   "outputs": [
    {
     "data": {
      "text/html": [
       "<div>\n",
       "<style scoped>\n",
       "    .dataframe tbody tr th:only-of-type {\n",
       "        vertical-align: middle;\n",
       "    }\n",
       "\n",
       "    .dataframe tbody tr th {\n",
       "        vertical-align: top;\n",
       "    }\n",
       "\n",
       "    .dataframe thead th {\n",
       "        text-align: right;\n",
       "    }\n",
       "</style>\n",
       "<table border=\"1\" class=\"dataframe\">\n",
       "  <thead>\n",
       "    <tr style=\"text-align: right;\">\n",
       "      <th></th>\n",
       "      <th>weight</th>\n",
       "      <th>frontal</th>\n",
       "      <th>age</th>\n",
       "      <th>yearVeh</th>\n",
       "      <th>injSeverity</th>\n",
       "      <th>survived</th>\n",
       "      <th>airbag</th>\n",
       "      <th>seatbelt</th>\n",
       "      <th>occRole</th>\n",
       "      <th>abcat_deploy</th>\n",
       "      <th>abcat_nodeploy</th>\n",
       "    </tr>\n",
       "  </thead>\n",
       "  <tbody>\n",
       "    <tr>\n",
       "      <th>0</th>\n",
       "      <td>-0.391370</td>\n",
       "      <td>0.744108</td>\n",
       "      <td>-0.627604</td>\n",
       "      <td>-0.500992</td>\n",
       "      <td>0.991155</td>\n",
       "      <td>-1.105636</td>\n",
       "      <td>0.642361</td>\n",
       "      <td>0.518294</td>\n",
       "      <td>-0.714893</td>\n",
       "      <td>-0.518413</td>\n",
       "      <td>1.105636</td>\n",
       "    </tr>\n",
       "    <tr>\n",
       "      <th>1</th>\n",
       "      <td>-0.391370</td>\n",
       "      <td>0.744108</td>\n",
       "      <td>1.941370</td>\n",
       "      <td>0.392757</td>\n",
       "      <td>-0.556057</td>\n",
       "      <td>0.904457</td>\n",
       "      <td>0.642361</td>\n",
       "      <td>0.518294</td>\n",
       "      <td>1.398810</td>\n",
       "      <td>-0.518413</td>\n",
       "      <td>-0.904457</td>\n",
       "    </tr>\n",
       "    <tr>\n",
       "      <th>2</th>\n",
       "      <td>-0.384233</td>\n",
       "      <td>0.744108</td>\n",
       "      <td>1.773828</td>\n",
       "      <td>-0.858492</td>\n",
       "      <td>1.764761</td>\n",
       "      <td>-1.105636</td>\n",
       "      <td>-1.556757</td>\n",
       "      <td>0.518294</td>\n",
       "      <td>-0.714893</td>\n",
       "      <td>-0.518413</td>\n",
       "      <td>1.105636</td>\n",
       "    </tr>\n",
       "  </tbody>\n",
       "</table>\n",
       "</div>"
      ],
      "text/plain": [
       "     weight   frontal       age   yearVeh  injSeverity  survived    airbag  \\\n",
       "0 -0.391370  0.744108 -0.627604 -0.500992     0.991155 -1.105636  0.642361   \n",
       "1 -0.391370  0.744108  1.941370  0.392757    -0.556057  0.904457  0.642361   \n",
       "2 -0.384233  0.744108  1.773828 -0.858492     1.764761 -1.105636 -1.556757   \n",
       "\n",
       "   seatbelt   occRole  abcat_deploy  abcat_nodeploy  \n",
       "0  0.518294 -0.714893     -0.518413        1.105636  \n",
       "1  0.518294  1.398810     -0.518413       -0.904457  \n",
       "2  0.518294 -0.714893     -0.518413        1.105636  "
      ]
     },
     "execution_count": 13,
     "metadata": {},
     "output_type": "execute_result"
    }
   ],
   "source": [
    "scaler = StandardScaler()\n",
    "\n",
    "\n",
    "scaler.fit(df.drop('survived', axis=1))\n",
    "\n",
    "scaled_features = scaler.transform(df.drop('survived',axis=1))\n",
    "df_feat = pd.DataFrame(scaled_features,columns=df.columns[:-1])\n",
    "df_feat.head(3)"
   ]
  },
  {
   "cell_type": "markdown",
   "metadata": {
    "id": "x11hLOCPYNB2"
   },
   "source": [
    "### Exploratory data analysis"
   ]
  },
  {
   "cell_type": "code",
   "execution_count": 14,
   "metadata": {
    "id": "OU63idPpYTd9"
   },
   "outputs": [
    {
     "data": {
      "text/plain": [
       "<AxesSubplot:>"
      ]
     },
     "execution_count": 14,
     "metadata": {},
     "output_type": "execute_result"
    },
    {
     "data": {
      "image/png": "[encoded data removed]",
      "text/plain": [
       "<Figure size 432x288 with 2 Axes>"
      ]
     },
     "metadata": {
      "needs_background": "light"
     },
     "output_type": "display_data"
    }
   ],
   "source": [
    "sns.heatmap(df.corr(), annot=True)"
   ]
  },
  {
   "cell_type": "markdown",
   "metadata": {
    "id": "h5CZxZNMS_X1"
   },
   "source": [
    "### Train model"
   ]
  },
  {
   "cell_type": "code",
   "execution_count": 15,
   "metadata": {
    "id": "vWJY5Y1GS_X3"
   },
   "outputs": [
    {
     "data": {
      "text/plain": [
       "RandomForestClassifier(n_estimators=2000)"
      ]
     },
     "execution_count": 15,
     "metadata": {},
     "output_type": "execute_result"
    }
   ],
   "source": [
    "from sklearn.model_selection import train_test_split\n",
    "X = df[['weight','frontal','yearVeh','injSeverity','age','seatbelt','airbag','occRole','abcat_deploy','abcat_nodeploy']]\n",
    "y = df['survived']\n",
    "X_train, X_test, y_train, y_test = train_test_split(X, y, test_size=0.3, random_state=50)\n",
    "\n",
    "\n",
    "from sklearn.ensemble import RandomForestClassifier\n",
    "rfc = RandomForestClassifier(n_estimators=2000)\n",
    "rfc.fit(X_train, y_train)"
   ]
  },
  {
   "cell_type": "code",
   "execution_count": 16,
   "metadata": {},
   "outputs": [
    {
     "name": "stdout",
     "output_type": "stream",
     "text": [
      "abcat_nodeploy    0.001891\n",
      "airbag            0.002480\n",
      "abcat_deploy      0.002632\n",
      "occRole           0.005389\n",
      "frontal           0.006353\n",
      "seatbelt          0.012438\n",
      "yearVeh           0.029761\n",
      "age               0.054167\n",
      "weight            0.071731\n",
      "injSeverity       0.813159\n",
      "dtype: float64\n"
     ]
    },
    {
     "data": {
      "text/html": [
       "<div>\n",
       "<style scoped>\n",
       "    .dataframe tbody tr th:only-of-type {\n",
       "        vertical-align: middle;\n",
       "    }\n",
       "\n",
       "    .dataframe tbody tr th {\n",
       "        vertical-align: top;\n",
       "    }\n",
       "\n",
       "    .dataframe thead th {\n",
       "        text-align: right;\n",
       "    }\n",
       "</style>\n",
       "<table border=\"1\" class=\"dataframe\">\n",
       "  <thead>\n",
       "    <tr style=\"text-align: right;\">\n",
       "      <th></th>\n",
       "      <th>weight</th>\n",
       "      <th>frontal</th>\n",
       "      <th>yearVeh</th>\n",
       "      <th>injSeverity</th>\n",
       "      <th>age</th>\n",
       "      <th>seatbelt</th>\n",
       "      <th>airbag</th>\n",
       "      <th>occRole</th>\n",
       "      <th>abcat_deploy</th>\n",
       "      <th>abcat_nodeploy</th>\n",
       "    </tr>\n",
       "  </thead>\n",
       "  <tbody>\n",
       "    <tr>\n",
       "      <th>0</th>\n",
       "      <td>0.071731</td>\n",
       "      <td>0.006353</td>\n",
       "      <td>0.029761</td>\n",
       "      <td>0.813159</td>\n",
       "      <td>0.054167</td>\n",
       "      <td>0.012438</td>\n",
       "      <td>0.00248</td>\n",
       "      <td>0.005389</td>\n",
       "      <td>0.002632</td>\n",
       "      <td>0.001891</td>\n",
       "    </tr>\n",
       "  </tbody>\n",
       "</table>\n",
       "</div>"
      ],
      "text/plain": [
       "     weight   frontal   yearVeh  injSeverity       age  seatbelt   airbag  \\\n",
       "0  0.071731  0.006353  0.029761     0.813159  0.054167  0.012438  0.00248   \n",
       "\n",
       "    occRole  abcat_deploy  abcat_nodeploy  \n",
       "0  0.005389      0.002632        0.001891  "
      ]
     },
     "execution_count": 16,
     "metadata": {},
     "output_type": "execute_result"
    }
   ],
   "source": [
    "importances = pd.DataFrame(rfc.feature_importances_.reshape(1,10), columns=X_train.columns)\n",
    "\n",
    "print(np.max(importances).sort_values())\n",
    "\n",
    "importances.head()"
   ]
  },
  {
   "cell_type": "code",
   "execution_count": 17,
   "metadata": {},
   "outputs": [
    {
     "data": {
      "text/plain": [
       "Text(0.5, 1.0, 'importance of each column')"
      ]
     },
     "execution_count": 17,
     "metadata": {},
     "output_type": "execute_result"
    },
    {
     "data": {
      "image/png": "[encoded data removed]",
      "text/plain": [
       "<Figure size 432x288 with 1 Axes>"
      ]
     },
     "metadata": {
      "needs_background": "light"
     },
     "output_type": "display_data"
    }
   ],
   "source": [
    "importances = pd.Series(data=rfc.feature_importances_, index=X_train.columns)\n",
    "sns.barplot(x=importances, y=importances.index, orient='h').set_title('importance of each column')"
   ]
  },
  {
   "cell_type": "markdown",
   "metadata": {
    "id": "BIv-_ly6S_X5"
   },
   "source": [
    "### Forcasting"
   ]
  },
  {
   "cell_type": "code",
   "execution_count": 18,
   "metadata": {},
   "outputs": [],
   "source": [
    "rfc_pred = rfc.predict(X_test)"
   ]
  },
  {
   "cell_type": "markdown",
   "metadata": {
    "id": "1j5eIvhoS_X7"
   },
   "source": [
    "### Results\n",
    "\n",
    " "
   ]
  },
  {
   "cell_type": "code",
   "execution_count": 19,
   "metadata": {
    "id": "rCpVobbyS_X8"
   },
   "outputs": [
    {
     "name": "stdout",
     "output_type": "stream",
     "text": [
      "              precision    recall  f1-score   support\n",
      "\n",
      "           0       0.98      0.92      0.95       318\n",
      "           1       1.00      1.00      1.00      7482\n",
      "\n",
      "    accuracy                           1.00      7800\n",
      "   macro avg       0.99      0.96      0.97      7800\n",
      "weighted avg       1.00      1.00      1.00      7800\n",
      "\n",
      "__________________________________________________________\n",
      "Confusion matrix\n",
      "[[ 293   25]\n",
      " [   6 7476]]\n"
     ]
    }
   ],
   "source": [
    "print(classification_report(y_test,rfc_pred))\n",
    "print(\"__________________________________________________________\")\n",
    "\n",
    "print(\"Confusion matrix\")\n",
    "print(confusion_matrix(y_test,rfc_pred))"
   ]
  }
 ],
 "metadata": {
  "colab": {
   "name": "10_ProjetoFinalParaEntregar.ipynb",
   "provenance": []
  },
  "kernelspec": {
   "display_name": "Python 3 (ipykernel)",
   "language": "python",
   "name": "python3"
  },
  "language_info": {
   "codemirror_mode": {
    "name": "ipython",
    "version": 3
   },
   "file_extension": ".py",
   "mimetype": "text/x-python",
   "name": "python",
   "nbconvert_exporter": "python",
   "pygments_lexer": "ipython3",
   "version": "3.9.7"
  }
 },
 "nbformat": 4,
 "nbformat_minor": 4
}
